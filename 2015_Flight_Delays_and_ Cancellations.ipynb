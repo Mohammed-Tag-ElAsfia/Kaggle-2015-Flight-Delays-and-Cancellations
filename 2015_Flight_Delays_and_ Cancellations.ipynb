{
 "cells": [
  {
   "cell_type": "code",
   "execution_count": 1,
   "metadata": {},
   "outputs": [],
   "source": [
    "import pandas as pd, numpy as np, time\n",
    "from sklearn.model_selection import train_test_split"
   ]
  },
  {
   "cell_type": "code",
   "execution_count": 2,
   "metadata": {},
   "outputs": [
    {
     "name": "stderr",
     "output_type": "stream",
     "text": [
      "c:\\users\\david\\envs\\ml\\lib\\site-packages\\IPython\\core\\interactiveshell.py:3044: DtypeWarning: Columns (7,8) have mixed types. Specify dtype option on import or set low_memory=False.\n",
      "  interactivity=interactivity, compiler=compiler, result=result)\n"
     ]
    }
   ],
   "source": [
    "# testing on 10% of the entire dataset\n",
    "data = pd.read_csv(\"flights.csv\")\n",
    "data = data.sample(frac = 0.1, random_state=10)\n",
    "\n",
    "data = data[[\"MONTH\",\"DAY\",\"DAY_OF_WEEK\",\"AIRLINE\",\"FLIGHT_NUMBER\",\"DESTINATION_AIRPORT\",\n",
    "                 \"ORIGIN_AIRPORT\",\"AIR_TIME\", \"DEPARTURE_TIME\",\"DISTANCE\",\"ARRIVAL_DELAY\"]]\n",
    "data.dropna(inplace=True)\n",
    "\n",
    "data[\"ARRIVAL_DELAY\"] = (data[\"ARRIVAL_DELAY\"]>10)*1\n",
    "\n",
    "cols = [\"AIRLINE\",\"FLIGHT_NUMBER\",\"DESTINATION_AIRPORT\",\"ORIGIN_AIRPORT\"]\n",
    "for item in cols:\n",
    "    data[item] = data[item].astype(\"category\").cat.codes +1\n",
    " \n",
    "train, test, y_train, y_test = train_test_split(data.drop([\"ARRIVAL_DELAY\"], axis=1), data[\"ARRIVAL_DELAY\"],\n",
    "                                                random_state=10, test_size=0.25)"
   ]
  },
  {
   "cell_type": "markdown",
   "metadata": {},
   "source": [
    "# XGBoost"
   ]
  },
  {
   "cell_type": "code",
   "execution_count": null,
   "metadata": {},
   "outputs": [
    {
     "name": "stdout",
     "output_type": "stream",
     "text": [
      "Fitting 3 folds for each of 27 candidates, totalling 81 fits\n"
     ]
    },
    {
     "name": "stderr",
     "output_type": "stream",
     "text": [
      "[Parallel(n_jobs=-1)]: Using backend LokyBackend with 8 concurrent workers.\n",
      "[Parallel(n_jobs=-1)]: Done   2 tasks      | elapsed:  9.2min\n",
      "[Parallel(n_jobs=-1)]: Done   9 tasks      | elapsed: 18.5min\n",
      "[Parallel(n_jobs=-1)]: Done  16 tasks      | elapsed: 43.1min\n",
      "[Parallel(n_jobs=-1)]: Done  25 tasks      | elapsed: 92.2min\n",
      "[Parallel(n_jobs=-1)]: Done  34 tasks      | elapsed: 103.8min\n"
     ]
    }
   ],
   "source": [
    "import xgboost as xgb\n",
    "from sklearn import metrics\n",
    "from sklearn.model_selection import GridSearchCV\n",
    "\n",
    "def auc(m, train, test): \n",
    "    return (metrics.roc_auc_score(y_train,m.predict_proba(train)[:,1]),\n",
    "                            metrics.roc_auc_score(y_test,m.predict_proba(test)[:,1]))\n",
    "\n",
    "# Parameter Tuning\n",
    "model = xgb.XGBClassifier()\n",
    "param_dist = {\"max_depth\": [10,30,50],\n",
    "              \"min_child_weight\" : [1,3,6],\n",
    "              \"n_estimators\": [200],\n",
    "              \"learning_rate\": [0.05, 0.1,0.16],}\n",
    "grid_search = GridSearchCV(model, param_grid=param_dist, cv = 3, \n",
    "                                   verbose=10, n_jobs=-1)\n",
    "grid_search.fit(train, y_train)\n",
    "\n",
    "grid_search.best_estimator_\n",
    "\n",
    "model = xgb.XGBClassifier(max_depth=50, min_child_weight=1,  n_estimators=200,\\\n",
    "                          n_jobs=-1 , verbose=1,learning_rate=0.16)\n",
    "model.fit(train,y_train)\n",
    "\n",
    "auc(model, train, test)"
   ]
  },
  {
   "cell_type": "markdown",
   "metadata": {},
   "source": [
    "# Light GBM"
   ]
  },
  {
   "cell_type": "code",
   "execution_count": null,
   "metadata": {},
   "outputs": [],
   "source": [
    "import lightgbm as lgb\n",
    "from sklearn import metrics\n",
    "\n",
    "def auc2(m, train, test): \n",
    "    return (metrics.roc_auc_score(y_train,m.predict(train)),\n",
    "                            metrics.roc_auc_score(y_test,m.predict(test)))\n",
    "\n",
    "lg = lgb.LGBMClassifier(silent=False)\n",
    "param_dist = {\"max_depth\": [25,50, 75],\n",
    "              \"learning_rate\" : [0.01,0.05,0.1],\n",
    "              \"num_leaves\": [300,900,1200],\n",
    "              \"n_estimators\": [200]\n",
    "             }\n",
    "grid_search = GridSearchCV(lg, n_jobs=-1, param_grid=param_dist, cv = 3, scoring=\"roc_auc\", verbose=5)\n",
    "grid_search.fit(train,y_train)\n",
    "grid_search.best_estimator_\n",
    "\n",
    "d_train = lgb.Dataset(train, label=y_train)\n",
    "params = {\"max_depth\": 50, \"learning_rate\" : 0.1, \"num_leaves\": 900,  \"n_estimators\": 300}\n",
    "\n",
    "# Without Categorical Features\n",
    "model2 = lgb.train(params, d_train)\n",
    "auc2(model2, train, test)\n",
    "\n",
    "#With Catgeorical Features\n",
    "cate_features_name = [\"MONTH\",\"DAY\",\"DAY_OF_WEEK\",\"AIRLINE\",\"DESTINATION_AIRPORT\",\n",
    "                 \"ORIGIN_AIRPORT\"]\n",
    "model2 = lgb.train(params, d_train, categorical_feature = cate_features_name)\n",
    "auc2(model2, train, test)"
   ]
  },
  {
   "cell_type": "markdown",
   "metadata": {},
   "source": [
    "# CatBoost"
   ]
  },
  {
   "cell_type": "code",
   "execution_count": null,
   "metadata": {},
   "outputs": [],
   "source": [
    "import catboost as cb\n",
    "cat_features_index = [0,1,2,3,4,5,6]\n",
    "\n",
    "def auc(m, train, test): \n",
    "    return (metrics.roc_auc_score(y_train,m.predict_proba(train)[:,1]),\n",
    "                            metrics.roc_auc_score(y_test,m.predict_proba(test)[:,1]))\n",
    "\n",
    "params = {'depth': [4, 7, 10],\n",
    "          'learning_rate' : [0.03, 0.1, 0.15],\n",
    "         'l2_leaf_reg': [1,4,9],\n",
    "         'iterations': [300]}\n",
    "cb = cb.CatBoostClassifier()\n",
    "cb_model = GridSearchCV(cb, params, scoring=\"roc_auc\", cv = 3)\n",
    "cb_model.fit(train, y_train)\n",
    "\n",
    "#Without Categorical features\n",
    "clf = cb.CatBoostClassifier(eval_metric=\"AUC\", depth=10, iterations= 500, l2_leaf_reg= 9, learning_rate= 0.15)\n",
    "clf.fit(train,y_train)\n",
    "auc(clf, train, test)\n",
    "\n",
    "#With Categorical features\n",
    "clf = cb.CatBoostClassifier(eval_metric=\"AUC\",one_hot_max_size=31, \\\n",
    "                            depth=10, iterations= 500, l2_leaf_reg= 9, learning_rate= 0.15)\n",
    "clf.fit(train,y_train, cat_features= cat_features_index)\n",
    "auc(clf, train, test)"
   ]
  }
 ],
 "metadata": {
  "kernelspec": {
   "display_name": "Python 3",
   "language": "python",
   "name": "python3"
  },
  "language_info": {
   "codemirror_mode": {
    "name": "ipython",
    "version": 3
   },
   "file_extension": ".py",
   "mimetype": "text/x-python",
   "name": "python",
   "nbconvert_exporter": "python",
   "pygments_lexer": "ipython3",
   "version": "3.7.2"
  }
 },
 "nbformat": 4,
 "nbformat_minor": 2
}
